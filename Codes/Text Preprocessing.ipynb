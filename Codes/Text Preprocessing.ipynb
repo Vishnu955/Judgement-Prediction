{
 "cells": [
  {
   "cell_type": "code",
   "execution_count": 1,
   "id": "062829a9",
   "metadata": {},
   "outputs": [],
   "source": [
    "import pandas as pd\n",
    "import string\n",
    "from nltk.corpus import stopwords\n",
    "from nltk.stem import PorterStemmer"
   ]
  },
  {
   "cell_type": "code",
   "execution_count": 2,
   "id": "ce9a3a40",
   "metadata": {},
   "outputs": [],
   "source": [
    "stop = list(stopwords.words('english'))\n",
    "new_stop=['(',',','.','..','\"',')','>','’','<','“','/','?']\n",
    "stop.extend(new_stop)"
   ]
  },
  {
   "cell_type": "code",
   "execution_count": 3,
   "id": "32258362",
   "metadata": {},
   "outputs": [],
   "source": [
    "porter = PorterStemmer()\n",
    "\n",
    "URL_DATA = 'Dataset.xlsx'"
   ]
  },
  {
   "cell_type": "code",
   "execution_count": 4,
   "id": "63bcfcef",
   "metadata": {},
   "outputs": [],
   "source": [
    "def remove_punctuation(description):\n",
    "    \"\"\"Function to remove punctuation\"\"\"\n",
    "    table = str.maketrans('', '', string.punctuation)\n",
    "    return description.translate(table)"
   ]
  },
  {
   "cell_type": "code",
   "execution_count": 5,
   "id": "5043930f",
   "metadata": {},
   "outputs": [],
   "source": [
    "def remove_stopwords(text):\n",
    "    \"\"\"Function to removing stopwords\"\"\"\n",
    "    text = [word.lower() for word in text.split() if word.lower() not in stop]\n",
    "    return \" \".join(text)"
   ]
  },
  {
   "cell_type": "code",
   "execution_count": 6,
   "id": "225927c0",
   "metadata": {},
   "outputs": [],
   "source": [
    "def stemmer(stem_text):\n",
    "    \"\"\"Function to apply stemming\"\"\"\n",
    "    stem_text = [porter.stem(word) for word in stem_text.split()]\n",
    "    return \" \".join(stem_text)"
   ]
  },
  {
   "cell_type": "code",
   "execution_count": 9,
   "id": "00450d0f",
   "metadata": {},
   "outputs": [],
   "source": [
    "def read_data(path):\n",
    "    \"\"\"Function to read and clean text data\"\"\"\n",
    "    data = pd.read_excel(path, header=0, index_col=0)\n",
    "    data = data[['Judgement','Judgement Status']].copy() #saving a copy of these two columns in data \n",
    "    data['Judgement'] = data['Judgement'].astype(str)\n",
    "    data['Judgement'] = data['Judgement'].apply(remove_punctuation) # Applying preprocessing techniques to the judgment column\n",
    "    data['Judgement'] = data['Judgement'].apply(remove_stopwords)\n",
    "    data['Judgement'] = data['Judgement'].apply(stemmer)\n",
    "    return data"
   ]
  },
  {
   "cell_type": "code",
   "execution_count": 10,
   "id": "c027d560",
   "metadata": {},
   "outputs": [
    {
     "name": "stdout",
     "output_type": "stream",
     "text": [
      "(600, 2)\n",
      "                                             Judgement  Judgement Status\n",
      "Id                                                                      \n",
      "1    appeal judgment decre bombay high court stone ...                 1\n",
      "2    applic articl 32 1 constitut enforc applic fun...                 2\n",
      "3    appeal judgment high court hyderabad articl 37...                 0\n",
      "4    appeal articl 3744 constitut judgment decre hi...                 0\n",
      "5    petit art 136 constitut pray special leav appe...                 3\n",
      "..                                                 ...               ...\n",
      "596  document column 3 thereof petition subsequ mad...                 3\n",
      "597  unauthoris construct municip build tribun said...                 2\n",
      "598  mr jayanta kr mitra sr advoc mr ratnanko baner...                 2\n",
      "599  consid aver contain applic condon delay satisf...                 3\n",
      "600  court order date 26th juli 2013 order pass ter...                 3\n",
      "\n",
      "[600 rows x 2 columns]\n"
     ]
    }
   ],
   "source": [
    "if __name__ == '__main__':\n",
    "    dataset = read_data(URL_DATA)\n",
    "    print(dataset.shape)\n",
    "    print(dataset)\n",
    "    dataset.to_csv('New Data.csv',encoding='utf-8')"
   ]
  },
  {
   "cell_type": "code",
   "execution_count": null,
   "id": "7e0f2dc9",
   "metadata": {},
   "outputs": [],
   "source": []
  },
  {
   "cell_type": "markdown",
   "id": "9c97092e",
   "metadata": {},
   "source": [
    "# Converting xlsx to json"
   ]
  },
  {
   "cell_type": "markdown",
   "id": "07773541",
   "metadata": {},
   "source": []
  }
 ],
 "metadata": {
  "kernelspec": {
   "display_name": "Python 3 (ipykernel)",
   "language": "python",
   "name": "python3"
  },
  "language_info": {
   "codemirror_mode": {
    "name": "ipython",
    "version": 3
   },
   "file_extension": ".py",
   "mimetype": "text/x-python",
   "name": "python",
   "nbconvert_exporter": "python",
   "pygments_lexer": "ipython3",
   "version": "3.9.20"
  }
 },
 "nbformat": 4,
 "nbformat_minor": 5
}
