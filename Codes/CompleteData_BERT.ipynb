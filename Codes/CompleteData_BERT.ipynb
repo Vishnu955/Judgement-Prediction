{
 "cells": [
  {
   "cell_type": "code",
   "execution_count": 1,
   "id": "46258cf5",
   "metadata": {},
   "outputs": [
    {
     "name": "stderr",
     "output_type": "stream",
     "text": [
      "c:\\Users\\ivsvi\\miniconda3\\envs\\tf-gpu\\lib\\site-packages\\tqdm\\auto.py:21: TqdmWarning: IProgress not found. Please update jupyter and ipywidgets. See https://ipywidgets.readthedocs.io/en/stable/user_install.html\n",
      "  from .autonotebook import tqdm as notebook_tqdm\n"
     ]
    }
   ],
   "source": [
    "import io\n",
    "import pandas as pd\n",
    "from tensorflow.keras import regularizers\n",
    "from tensorflow.keras.layers import Dense,Dropout, Input\n",
    "from sklearn.utils import resample\n",
    "\n",
    "#for model\n",
    "# Import Statements\n",
    "import tensorflow as tf\n",
    "from tensorflow.keras.optimizers import Adam\n",
    "from tensorflow.keras.initializers import TruncatedNormal\n",
    "from tensorflow.keras.losses import CategoricalCrossentropy\n",
    "from tensorflow.keras.metrics import CategoricalAccuracy\n",
    "from tensorflow.keras.utils import to_categorical\n",
    "from tensorflow.keras.layers import Input, Dense\n",
    "import transformers\n",
    "from transformers import AutoTokenizer, TFBertModel\n",
    "from tensorflow.keras.callbacks import EarlyStopping, ReduceLROnPlateau\n",
    "import matplotlib.pyplot as plt"
   ]
  },
  {
   "cell_type": "code",
   "execution_count": 2,
   "id": "65fc153b-87de-4f52-a77c-4bbf929bb5f7",
   "metadata": {},
   "outputs": [],
   "source": [
    "#!pip install openpyxl"
   ]
  },
  {
   "cell_type": "code",
   "execution_count": 3,
   "id": "3ed7278f",
   "metadata": {},
   "outputs": [],
   "source": [
    "df =  pd.read_json('C:\\\\Users\\\\ivsvi\\\\Codes\\\\Codes in Main drive\\Masters\\\\SEM-3\\\\DL\\\\Final Project\\\\Summarisation DataSet Creation\\\\Complete Summarized Dataset.json')"
   ]
  },
  {
   "cell_type": "code",
   "execution_count": 4,
   "id": "3e49a342",
   "metadata": {},
   "outputs": [
    {
     "data": {
      "text/html": [
       "<div>\n",
       "<style scoped>\n",
       "    .dataframe tbody tr th:only-of-type {\n",
       "        vertical-align: middle;\n",
       "    }\n",
       "\n",
       "    .dataframe tbody tr th {\n",
       "        vertical-align: top;\n",
       "    }\n",
       "\n",
       "    .dataframe thead th {\n",
       "        text-align: right;\n",
       "    }\n",
       "</style>\n",
       "<table border=\"1\" class=\"dataframe\">\n",
       "  <thead>\n",
       "    <tr style=\"text-align: right;\">\n",
       "      <th></th>\n",
       "      <th>Judgement</th>\n",
       "      <th>Domain</th>\n",
       "      <th>Judgement Status</th>\n",
       "      <th>Court</th>\n",
       "      <th>Abstractive Summarized Judgements</th>\n",
       "      <th>Extractive Summarized Judgements</th>\n",
       "    </tr>\n",
       "  </thead>\n",
       "  <tbody>\n",
       "    <tr>\n",
       "      <th>0</th>\n",
       "      <td>\"This was an appeal from a judgment and decree...</td>\n",
       "      <td>Civil</td>\n",
       "      <td>1</td>\n",
       "      <td>Supreme Court</td>\n",
       "      <td>In order to enforce war-time controls another ...</td>\n",
       "      <td>According to the Respondent, on the 11th Augus...</td>\n",
       "    </tr>\n",
       "    <tr>\n",
       "      <th>1</th>\n",
       "      <td>\"This was an application under article 32 (1) ...</td>\n",
       "      <td>Civil</td>\n",
       "      <td>2</td>\n",
       "      <td>Supreme Court</td>\n",
       "      <td>The second part of this bye-law clearly contem...</td>\n",
       "      <td>to the petitioner. \"You are hereby informed th...</td>\n",
       "    </tr>\n",
       "    <tr>\n",
       "      <th>2</th>\n",
       "      <td>\"APPEAL from a judgment of the High Court of H...</td>\n",
       "      <td>Civil</td>\n",
       "      <td>0</td>\n",
       "      <td>Supreme Court</td>\n",
       "      <td>The learned advocate for the appellant contend...</td>\n",
       "      <td>749 The sole point for determination in the ap...</td>\n",
       "    </tr>\n",
       "    <tr>\n",
       "      <th>3</th>\n",
       "      <td>\"APPEAL under article 374(4) of the Constituti...</td>\n",
       "      <td>Civil</td>\n",
       "      <td>0</td>\n",
       "      <td>Supreme Court</td>\n",
       "      <td>It has been held that the first appellate cour...</td>\n",
       "      <td>On receipt of the letter in the civil court, t...</td>\n",
       "    </tr>\n",
       "    <tr>\n",
       "      <th>4</th>\n",
       "      <td>\"Petitions under Art. 136 of the Constitution ...</td>\n",
       "      <td>Criminal</td>\n",
       "      <td>3</td>\n",
       "      <td>Supreme Court</td>\n",
       "      <td>It was pointed out that in respect of convicti...</td>\n",
       "      <td>Under article 374 (4) on and from the com- men...</td>\n",
       "    </tr>\n",
       "  </tbody>\n",
       "</table>\n",
       "</div>"
      ],
      "text/plain": [
       "                                           Judgement    Domain  \\\n",
       "0  \"This was an appeal from a judgment and decree...     Civil   \n",
       "1  \"This was an application under article 32 (1) ...     Civil   \n",
       "2  \"APPEAL from a judgment of the High Court of H...     Civil   \n",
       "3  \"APPEAL under article 374(4) of the Constituti...     Civil   \n",
       "4  \"Petitions under Art. 136 of the Constitution ...  Criminal   \n",
       "\n",
       "   Judgement Status          Court  \\\n",
       "0                 1  Supreme Court   \n",
       "1                 2  Supreme Court   \n",
       "2                 0  Supreme Court   \n",
       "3                 0  Supreme Court   \n",
       "4                 3  Supreme Court   \n",
       "\n",
       "                   Abstractive Summarized Judgements  \\\n",
       "0  In order to enforce war-time controls another ...   \n",
       "1  The second part of this bye-law clearly contem...   \n",
       "2  The learned advocate for the appellant contend...   \n",
       "3  It has been held that the first appellate cour...   \n",
       "4  It was pointed out that in respect of convicti...   \n",
       "\n",
       "                    Extractive Summarized Judgements  \n",
       "0  According to the Respondent, on the 11th Augus...  \n",
       "1  to the petitioner. \"You are hereby informed th...  \n",
       "2  749 The sole point for determination in the ap...  \n",
       "3  On receipt of the letter in the civil court, t...  \n",
       "4  Under article 374 (4) on and from the com- men...  "
      ]
     },
     "execution_count": 4,
     "metadata": {},
     "output_type": "execute_result"
    }
   ],
   "source": [
    "df = df.dropna() # To remove any None values\n",
    "df.head()"
   ]
  },
  {
   "cell_type": "code",
   "execution_count": 5,
   "id": "9872bcd9-c15d-4056-9561-d5cf43e92390",
   "metadata": {},
   "outputs": [
    {
     "name": "stdout",
     "output_type": "stream",
     "text": [
      "Judgement Status\n",
      "1    175\n",
      "2    143\n",
      "0    143\n",
      "3    132\n",
      "Name: count, dtype: int64\n"
     ]
    }
   ],
   "source": [
    "print(df['Judgement Status'].value_counts())"
   ]
  },
  {
   "cell_type": "code",
   "execution_count": 6,
   "id": "50936bae-b6fa-4c34-8ac5-bbf0f78626b0",
   "metadata": {},
   "outputs": [],
   "source": [
    "# Separate majority class (class 1) and minority classes (classes 0, 2, and 3)\n",
    "df_majority = df[df['Judgement Status'] == 1]\n",
    "df_minority_0 = df[df['Judgement Status'] == 0]\n",
    "df_minority_2 = df[df['Judgement Status'] == 2] \n",
    "df_minority_3 = df[df['Judgement Status'] == 3]"
   ]
  },
  {
   "cell_type": "code",
   "execution_count": 7,
   "id": "98293430-9b11-4df5-8bb8-648956e19c98",
   "metadata": {},
   "outputs": [],
   "source": [
    "# Calculate the number of samples in the majority class (class 1)\n",
    "majority_class_size = df_majority.shape[0]"
   ]
  },
  {
   "cell_type": "code",
   "execution_count": 8,
   "id": "09a99e16-c24d-4f79-bae3-39994dd47fce",
   "metadata": {},
   "outputs": [
    {
     "data": {
      "text/plain": [
       "(175, 6)"
      ]
     },
     "execution_count": 8,
     "metadata": {},
     "output_type": "execute_result"
    }
   ],
   "source": [
    "df_majority.shape"
   ]
  },
  {
   "cell_type": "code",
   "execution_count": 9,
   "id": "2c0975f1-dcc0-458f-b0fb-e8dd8d24e28d",
   "metadata": {},
   "outputs": [
    {
     "data": {
      "text/plain": [
       "175"
      ]
     },
     "execution_count": 9,
     "metadata": {},
     "output_type": "execute_result"
    }
   ],
   "source": [
    "majority_class_size"
   ]
  },
  {
   "cell_type": "code",
   "execution_count": 10,
   "id": "84c16a71-6c3f-49f5-81ac-c0e9c7ab9b32",
   "metadata": {},
   "outputs": [],
   "source": [
    "# Randomly sample from the minority classes to match the majority class size\n",
    "df_minority_0_sampled = resample(df_minority_0, \n",
    "                                  replace=True,       # Sample with replacement\n",
    "                                  n_samples=majority_class_size,  # Match majority class size\n",
    "                                  random_state=123)   # Set random seed for reproducibility"
   ]
  },
  {
   "cell_type": "code",
   "execution_count": 11,
   "id": "2f5dba88-eb22-42f8-a747-2afbba80521f",
   "metadata": {},
   "outputs": [],
   "source": [
    "df_minority_2_sampled = resample(df_minority_2, \n",
    "                                  replace=True, \n",
    "                                  n_samples=majority_class_size,    \n",
    "                                  random_state=123)"
   ]
  },
  {
   "cell_type": "code",
   "execution_count": 12,
   "id": "061b0205-db98-42ab-9099-10f70487a5f1",
   "metadata": {},
   "outputs": [],
   "source": [
    "df_minority_3_sampled = resample(df_minority_3, \n",
    "                                  replace=True, \n",
    "                                  n_samples=majority_class_size,    \n",
    "                                  random_state=123)"
   ]
  },
  {
   "cell_type": "code",
   "execution_count": 13,
   "id": "d28f04b6-9bc5-420e-9e89-6eb5a53f836d",
   "metadata": {},
   "outputs": [],
   "source": [
    "# Combine the majority class with the resampled minority classes\n",
    "df_balanced = pd.concat([df_majority, df_minority_0_sampled, df_minority_2_sampled, df_minority_3_sampled])"
   ]
  },
  {
   "cell_type": "code",
   "execution_count": 14,
   "id": "46f8d6f9-e54d-4f02-9834-caa20e112f0d",
   "metadata": {},
   "outputs": [
    {
     "name": "stdout",
     "output_type": "stream",
     "text": [
      "Judgement Status\n",
      "1    175\n",
      "0    175\n",
      "2    175\n",
      "3    175\n",
      "Name: count, dtype: int64\n"
     ]
    }
   ],
   "source": [
    "# Verify the new class distribution\n",
    "print(df_balanced['Judgement Status'].value_counts())"
   ]
  },
  {
   "cell_type": "code",
   "execution_count": 15,
   "id": "b81d5b46-7172-4438-8869-4305d55006ea",
   "metadata": {},
   "outputs": [],
   "source": [
    "df = df_balanced"
   ]
  },
  {
   "cell_type": "code",
   "execution_count": 16,
   "id": "beb02d83-85a5-4020-b2b0-5a7aa3eedd1e",
   "metadata": {},
   "outputs": [
    {
     "name": "stdout",
     "output_type": "stream",
     "text": [
      "Judgement Status\n",
      "1    175\n",
      "0    175\n",
      "2    175\n",
      "3    175\n",
      "Name: count, dtype: int64\n"
     ]
    }
   ],
   "source": [
    "# Verify the new class distribution\n",
    "print(df['Judgement Status'].value_counts())"
   ]
  },
  {
   "cell_type": "markdown",
   "id": "ad89c442",
   "metadata": {},
   "source": [
    "## Splitting the data for complete, extractive and abstractive summarized texts"
   ]
  },
  {
   "cell_type": "code",
   "execution_count": 17,
   "id": "a2d5cbf7",
   "metadata": {},
   "outputs": [],
   "source": [
    "# Complete Data\n",
    "complete_sentences = df[['Judgement','Judgement Status']]"
   ]
  },
  {
   "cell_type": "code",
   "execution_count": 18,
   "id": "c50caa9b",
   "metadata": {},
   "outputs": [],
   "source": [
    "from sklearn.model_selection import train_test_split\n",
    "\n",
    "# Train and Test Split for Complete Data\n",
    "df_train_complete_sentences, df_test_complete_sentences = train_test_split(complete_sentences, test_size=0.20, random_state=42)"
   ]
  },
  {
   "cell_type": "markdown",
   "id": "3b1984ec",
   "metadata": {},
   "source": [
    "## Converting the Judgement Status to Categorical Values"
   ]
  },
  {
   "cell_type": "code",
   "execution_count": 19,
   "id": "7d36ec96",
   "metadata": {},
   "outputs": [],
   "source": [
    "from tensorflow.keras.utils import to_categorical\n",
    "\n",
    "# Complete Data\n",
    "y_train_complete = to_categorical(df_train_complete_sentences['Judgement Status'])\n",
    "y_test_complete = to_categorical(df_test_complete_sentences['Judgement Status'])"
   ]
  },
  {
   "cell_type": "markdown",
   "id": "bca91f72",
   "metadata": {},
   "source": [
    "## Building Model"
   ]
  },
  {
   "cell_type": "code",
   "execution_count": 20,
   "id": "e79e9bcc",
   "metadata": {},
   "outputs": [
    {
     "name": "stderr",
     "output_type": "stream",
     "text": [
      "Some weights of the PyTorch model were not used when initializing the TF 2.0 model TFBertModel: ['cls.seq_relationship.bias', 'cls.predictions.bias', 'cls.predictions.transform.dense.weight', 'cls.seq_relationship.weight', 'cls.predictions.transform.LayerNorm.bias', 'cls.predictions.transform.dense.bias', 'cls.predictions.transform.LayerNorm.weight']\n",
      "- This IS expected if you are initializing TFBertModel from a PyTorch model trained on another task or with another architecture (e.g. initializing a TFBertForSequenceClassification model from a BertForPreTraining model).\n",
      "- This IS NOT expected if you are initializing TFBertModel from a PyTorch model that you expect to be exactly identical (e.g. initializing a TFBertForSequenceClassification model from a BertForSequenceClassification model).\n",
      "All the weights of TFBertModel were initialized from the PyTorch model.\n",
      "If your task is similar to the task the model of the checkpoint was trained on, you can already use TFBertModel for predictions without further training.\n"
     ]
    }
   ],
   "source": [
    "bert_tokenizer = AutoTokenizer.from_pretrained('bert-base-cased')\n",
    "bert_model = TFBertModel.from_pretrained('bert-base-cased')"
   ]
  },
  {
   "cell_type": "code",
   "execution_count": 21,
   "id": "4a9baf5c",
   "metadata": {},
   "outputs": [],
   "source": [
    "def tokenize_BERT(df_column, max_length, tokenizer):\n",
    "    tokenized_output = tokenizer(\n",
    "        text=df_column.tolist(),\n",
    "        add_special_tokens=True,\n",
    "        max_length=max_length,\n",
    "        truncation=True,\n",
    "        padding=True,\n",
    "        return_tensors='tf',\n",
    "        return_token_type_ids=False,\n",
    "        return_attention_mask=True,\n",
    "        verbose=True\n",
    "    )\n",
    "    return tokenized_output"
   ]
  },
  {
   "cell_type": "code",
   "execution_count": 22,
   "id": "338aac17-1285-423c-b5d0-2413323477b8",
   "metadata": {},
   "outputs": [],
   "source": [
    "x_train_complete_bert = tokenize_BERT(df_train_complete_sentences['Judgement'], max_length=200, tokenizer=bert_tokenizer)\n",
    "x_test_complete_bert = tokenize_BERT(df_test_complete_sentences['Judgement'], max_length=200, tokenizer=bert_tokenizer)"
   ]
  },
  {
   "cell_type": "code",
   "execution_count": 23,
   "id": "f6a91bdc",
   "metadata": {},
   "outputs": [],
   "source": [
    "input_ids_complete_bert = x_train_complete_bert['input_ids']\n",
    "attention_mask_complete_bert = x_train_complete_bert['attention_mask']"
   ]
  },
  {
   "cell_type": "code",
   "execution_count": 24,
   "id": "042c6ccf",
   "metadata": {},
   "outputs": [],
   "source": [
    "from tensorflow.keras import layers, regularizers\n",
    "from tensorflow.keras.layers import Dense, Dropout, GlobalMaxPool1D, Input\n",
    "max_len = 200\n",
    "\n",
    "input_ids_complete_bert = Input(shape=(max_len,), dtype=tf.int32, name=\"input_ids\")\n",
    "input_mask_com_bert = Input(shape=(max_len,), dtype=tf.int32, name=\"attention_mask\")\n",
    "\n",
    "# BERT embeddings\n",
    "embeddings = bert_model(input_ids_complete_bert, attention_mask=input_mask_com_bert)[0]\n",
    "out = GlobalMaxPool1D()(embeddings)\n",
    "\n",
    "# Add L2 regularization to Dense layers\n",
    "regularization_strength = 0.01  # You can change this value as per your needs\n",
    "\n",
    "# Layer-1 with L2 regularization\n",
    "#out = Dense(1024, activation='relu',kernel_regularizer=regularizers.l2(regularization_strength))(out)\n",
    "#out = Dropout(0.2)(out)\n",
    "\n",
    "# Layer-2 with L2 regularization\n",
    "out = Dense(512, activation='relu', \n",
    "            kernel_regularizer=regularizers.l2(regularization_strength))(out)\n",
    "out = Dropout(0.2)(out)\n",
    "\n",
    "out = Dense(256, activation='relu', \n",
    "            kernel_regularizer=regularizers.l2(regularization_strength))(out)\n",
    "out = Dropout(0.2)(out)\n",
    "\n",
    "# Layer-3 with L2 regularization\n",
    "out = Dense(128, activation='relu', \n",
    "            kernel_regularizer=regularizers.l2(regularization_strength))(out)\n",
    "# Dropout layer\n",
    "out = Dropout(0.2)(out)\n",
    "\n",
    "\n",
    "# Layer-4 with L2 regularization\n",
    "out = Dense(32, activation='relu', \n",
    "            kernel_regularizer=regularizers.l2(regularization_strength))(out)\n",
    "out = Dropout(0.2)(out)\n",
    "# Output layer\n",
    "y = Dense(4, activation='sigmoid')(out)\n",
    "\n",
    "# Create the model\n",
    "complete_data_bert_model = tf.keras.Model(inputs=[input_ids_complete_bert, input_mask_com_bert], outputs=y)\n",
    "\n",
    "# Set the third layer's weights to be trainable\n",
    "complete_data_bert_model.layers[1].trainable = True  # Layer 1 (Dense layer after BERT embeddings)\n",
    "complete_data_bert_model.layers[2].trainable = True"
   ]
  },
  {
   "cell_type": "code",
   "execution_count": 25,
   "id": "de879e9f",
   "metadata": {},
   "outputs": [
    {
     "name": "stdout",
     "output_type": "stream",
     "text": [
      "Model: \"model\"\n",
      "__________________________________________________________________________________________________\n",
      " Layer (type)                   Output Shape         Param #     Connected to                     \n",
      "==================================================================================================\n",
      " input_ids (InputLayer)         [(None, 200)]        0           []                               \n",
      "                                                                                                  \n",
      " attention_mask (InputLayer)    [(None, 200)]        0           []                               \n",
      "                                                                                                  \n",
      " tf_bert_model (TFBertModel)    TFBaseModelOutputWi  108310272   ['input_ids[0][0]',              \n",
      "                                thPoolingAndCrossAt               'attention_mask[0][0]']         \n",
      "                                tentions(last_hidde                                               \n",
      "                                n_state=(None, 200,                                               \n",
      "                                 768),                                                            \n",
      "                                 pooler_output=(Non                                               \n",
      "                                e, 768),                                                          \n",
      "                                 past_key_values=No                                               \n",
      "                                ne, hidden_states=N                                               \n",
      "                                one, attentions=Non                                               \n",
      "                                e, cross_attentions                                               \n",
      "                                =None)                                                            \n",
      "                                                                                                  \n",
      " global_max_pooling1d (GlobalMa  (None, 768)         0           ['tf_bert_model[0][0]']          \n",
      " xPooling1D)                                                                                      \n",
      "                                                                                                  \n",
      " dense (Dense)                  (None, 512)          393728      ['global_max_pooling1d[0][0]']   \n",
      "                                                                                                  \n",
      " dropout_37 (Dropout)           (None, 512)          0           ['dense[0][0]']                  \n",
      "                                                                                                  \n",
      " dense_1 (Dense)                (None, 256)          131328      ['dropout_37[0][0]']             \n",
      "                                                                                                  \n",
      " dropout_38 (Dropout)           (None, 256)          0           ['dense_1[0][0]']                \n",
      "                                                                                                  \n",
      " dense_2 (Dense)                (None, 128)          32896       ['dropout_38[0][0]']             \n",
      "                                                                                                  \n",
      " dropout_39 (Dropout)           (None, 128)          0           ['dense_2[0][0]']                \n",
      "                                                                                                  \n",
      " dense_3 (Dense)                (None, 32)           4128        ['dropout_39[0][0]']             \n",
      "                                                                                                  \n",
      " dropout_40 (Dropout)           (None, 32)           0           ['dense_3[0][0]']                \n",
      "                                                                                                  \n",
      " dense_4 (Dense)                (None, 4)            132         ['dropout_40[0][0]']             \n",
      "                                                                                                  \n",
      "==================================================================================================\n",
      "Total params: 108,872,484\n",
      "Trainable params: 108,872,484\n",
      "Non-trainable params: 0\n",
      "__________________________________________________________________________________________________\n"
     ]
    }
   ],
   "source": [
    "bert_optimizer = tf.keras.optimizers.legacy.Adam(\n",
    "    learning_rate=5e-05, # this learning rate is for bert model , taken from huggingface website\n",
    "    epsilon=1e-08,\n",
    "    decay=0.01,\n",
    "    clipnorm=1.0)\n",
    "\n",
    "# Set loss and metrics\n",
    "bert_loss = CategoricalCrossentropy(from_logits = True)\n",
    "bert_metric = CategoricalAccuracy('balanced_accuracy')\n",
    "\n",
    "early_stopping = EarlyStopping(\n",
    "    monitor=\"val_loss\",  # Monitor validation loss\n",
    "    patience=5,          # Stop training after 3 epochs of no improvement\n",
    "    restore_best_weights=True\n",
    ")\n",
    "\n",
    "reduce_lrearning_rate = ReduceLROnPlateau(\n",
    "    monitor=\"val_loss\",  # Monitor validation loss\n",
    "    factor=0.5,          # Reduce learning rate by half\n",
    "    patience=2,          # After 2 epochs of no improvement\n",
    "    min_lr=1e-6          # Minimum learning rate\n",
    ")\n",
    "\n",
    "# Compile the model\n",
    "complete_data_bert_model.compile(\n",
    "    optimizer = bert_optimizer,\n",
    "    loss=bert_loss,\n",
    "    metrics = bert_metric)\n",
    "complete_data_bert_model.summary()"
   ]
  },
  {
   "cell_type": "code",
   "execution_count": 26,
   "id": "231e526a",
   "metadata": {
    "scrolled": true
   },
   "outputs": [
    {
     "name": "stdout",
     "output_type": "stream",
     "text": [
      "Epoch 1/30\n"
     ]
    },
    {
     "name": "stderr",
     "output_type": "stream",
     "text": [
      "c:\\Users\\ivsvi\\miniconda3\\envs\\tf-gpu\\lib\\site-packages\\keras\\backend.py:5531: UserWarning: \"`categorical_crossentropy` received `from_logits=True`, but the `output` argument was produced by a Softmax activation and thus does not represent logits. Was this intended?\n",
      "  output, from_logits = _get_logits(\n"
     ]
    },
    {
     "name": "stdout",
     "output_type": "stream",
     "text": [
      "WARNING:tensorflow:Gradients do not exist for variables ['tf_bert_model/bert/pooler/dense/kernel:0', 'tf_bert_model/bert/pooler/dense/bias:0'] when minimizing the loss. If you're using `model.compile()`, did you forget to provide a `loss` argument?\n",
      "WARNING:tensorflow:Gradients do not exist for variables ['tf_bert_model/bert/pooler/dense/kernel:0', 'tf_bert_model/bert/pooler/dense/bias:0'] when minimizing the loss. If you're using `model.compile()`, did you forget to provide a `loss` argument?\n",
      "56/56 [==============================] - 25s 227ms/step - loss: 13.0164 - balanced_accuracy: 0.2429 - val_loss: 12.6899 - val_balanced_accuracy: 0.3143 - lr: 5.0000e-05\n",
      "Epoch 2/30\n",
      "56/56 [==============================] - 11s 203ms/step - loss: 12.5449 - balanced_accuracy: 0.2429 - val_loss: 12.3380 - val_balanced_accuracy: 0.3000 - lr: 5.0000e-05\n",
      "Epoch 3/30\n",
      "56/56 [==============================] - 13s 232ms/step - loss: 12.2272 - balanced_accuracy: 0.2500 - val_loss: 12.0757 - val_balanced_accuracy: 0.2786 - lr: 5.0000e-05\n",
      "Epoch 4/30\n",
      "56/56 [==============================] - 14s 257ms/step - loss: 11.9576 - balanced_accuracy: 0.2679 - val_loss: 11.8309 - val_balanced_accuracy: 0.3429 - lr: 5.0000e-05\n",
      "Epoch 5/30\n",
      "56/56 [==============================] - 14s 253ms/step - loss: 11.7011 - balanced_accuracy: 0.3554 - val_loss: 11.4978 - val_balanced_accuracy: 0.4286 - lr: 5.0000e-05\n",
      "Epoch 6/30\n",
      "56/56 [==============================] - 14s 254ms/step - loss: 11.4738 - balanced_accuracy: 0.4482 - val_loss: 11.2816 - val_balanced_accuracy: 0.4786 - lr: 5.0000e-05\n",
      "Epoch 7/30\n",
      "56/56 [==============================] - 13s 238ms/step - loss: 11.3200 - balanced_accuracy: 0.4304 - val_loss: 11.1571 - val_balanced_accuracy: 0.4929 - lr: 5.0000e-05\n",
      "Epoch 8/30\n",
      "56/56 [==============================] - 14s 250ms/step - loss: 11.1912 - balanced_accuracy: 0.4214 - val_loss: 11.0493 - val_balanced_accuracy: 0.4786 - lr: 5.0000e-05\n",
      "Epoch 9/30\n",
      "56/56 [==============================] - 14s 246ms/step - loss: 11.0036 - balanced_accuracy: 0.5179 - val_loss: 10.9064 - val_balanced_accuracy: 0.4929 - lr: 5.0000e-05\n",
      "Epoch 10/30\n",
      "56/56 [==============================] - 14s 252ms/step - loss: 10.9535 - balanced_accuracy: 0.5018 - val_loss: 10.8510 - val_balanced_accuracy: 0.4214 - lr: 5.0000e-05\n",
      "Epoch 11/30\n",
      "56/56 [==============================] - 14s 251ms/step - loss: 10.8167 - balanced_accuracy: 0.5429 - val_loss: 10.8141 - val_balanced_accuracy: 0.4500 - lr: 5.0000e-05\n",
      "Epoch 12/30\n",
      "56/56 [==============================] - 13s 241ms/step - loss: 10.7748 - balanced_accuracy: 0.5500 - val_loss: 10.7395 - val_balanced_accuracy: 0.4929 - lr: 5.0000e-05\n",
      "Epoch 13/30\n",
      "56/56 [==============================] - 13s 235ms/step - loss: 10.6120 - balanced_accuracy: 0.6411 - val_loss: 10.7224 - val_balanced_accuracy: 0.5286 - lr: 5.0000e-05\n",
      "Epoch 14/30\n",
      "56/56 [==============================] - 14s 243ms/step - loss: 10.4793 - balanced_accuracy: 0.6821 - val_loss: 10.6512 - val_balanced_accuracy: 0.5786 - lr: 5.0000e-05\n",
      "Epoch 15/30\n",
      "56/56 [==============================] - 13s 237ms/step - loss: 10.3625 - balanced_accuracy: 0.6982 - val_loss: 10.5611 - val_balanced_accuracy: 0.6000 - lr: 5.0000e-05\n",
      "Epoch 16/30\n",
      "56/56 [==============================] - 13s 240ms/step - loss: 10.2550 - balanced_accuracy: 0.7232 - val_loss: 10.5770 - val_balanced_accuracy: 0.5714 - lr: 5.0000e-05\n",
      "Epoch 17/30\n",
      "56/56 [==============================] - 12s 222ms/step - loss: 10.1679 - balanced_accuracy: 0.7661 - val_loss: 10.5355 - val_balanced_accuracy: 0.6000 - lr: 5.0000e-05\n",
      "Epoch 18/30\n",
      "56/56 [==============================] - 12s 206ms/step - loss: 10.0420 - balanced_accuracy: 0.8232 - val_loss: 10.5115 - val_balanced_accuracy: 0.6214 - lr: 5.0000e-05\n",
      "Epoch 19/30\n",
      "56/56 [==============================] - 11s 205ms/step - loss: 9.9916 - balanced_accuracy: 0.8179 - val_loss: 10.4485 - val_balanced_accuracy: 0.6571 - lr: 5.0000e-05\n",
      "Epoch 20/30\n",
      "56/56 [==============================] - 11s 204ms/step - loss: 9.9195 - balanced_accuracy: 0.8679 - val_loss: 10.4029 - val_balanced_accuracy: 0.6714 - lr: 5.0000e-05\n",
      "Epoch 21/30\n",
      "56/56 [==============================] - 11s 201ms/step - loss: 9.8388 - balanced_accuracy: 0.8857 - val_loss: 10.4244 - val_balanced_accuracy: 0.6500 - lr: 5.0000e-05\n",
      "Epoch 22/30\n",
      "56/56 [==============================] - 11s 203ms/step - loss: 9.7350 - balanced_accuracy: 0.9107 - val_loss: 10.4489 - val_balanced_accuracy: 0.6786 - lr: 5.0000e-05\n",
      "Epoch 23/30\n",
      "56/56 [==============================] - 12s 207ms/step - loss: 9.6685 - balanced_accuracy: 0.9179 - val_loss: 10.3879 - val_balanced_accuracy: 0.6929 - lr: 2.5000e-05\n",
      "Epoch 24/30\n",
      "56/56 [==============================] - 12s 207ms/step - loss: 9.6495 - balanced_accuracy: 0.9232 - val_loss: 10.3525 - val_balanced_accuracy: 0.6857 - lr: 2.5000e-05\n",
      "Epoch 25/30\n",
      "56/56 [==============================] - 11s 202ms/step - loss: 9.6447 - balanced_accuracy: 0.9161 - val_loss: 10.4177 - val_balanced_accuracy: 0.6857 - lr: 2.5000e-05\n",
      "Epoch 26/30\n",
      "56/56 [==============================] - 11s 203ms/step - loss: 9.5793 - balanced_accuracy: 0.9411 - val_loss: 10.3540 - val_balanced_accuracy: 0.7143 - lr: 2.5000e-05\n",
      "Epoch 27/30\n",
      "56/56 [==============================] - 11s 203ms/step - loss: 9.5592 - balanced_accuracy: 0.9375 - val_loss: 10.3838 - val_balanced_accuracy: 0.6857 - lr: 1.2500e-05\n",
      "Epoch 28/30\n",
      "56/56 [==============================] - 11s 203ms/step - loss: 9.5476 - balanced_accuracy: 0.9375 - val_loss: 10.3659 - val_balanced_accuracy: 0.7000 - lr: 1.2500e-05\n",
      "Epoch 29/30\n",
      "56/56 [==============================] - 11s 203ms/step - loss: 9.5520 - balanced_accuracy: 0.9375 - val_loss: 10.3724 - val_balanced_accuracy: 0.7000 - lr: 6.2500e-06\n"
     ]
    }
   ],
   "source": [
    "history = complete_data_bert_model.fit(\n",
    "    [x_train_complete_bert[\"input_ids\"], x_train_complete_bert[\"attention_mask\"]],\n",
    "    y_train_complete,\n",
    "    validation_data=(\n",
    "        [x_test_complete_bert[\"input_ids\"], x_test_complete_bert[\"attention_mask\"]],\n",
    "        y_test_complete\n",
    "    ),\n",
    "    epochs=30,  # Maximum number of epochs\n",
    "    batch_size=10,  # Adjust this based on your resources\n",
    "    callbacks=[early_stopping, reduce_lrearning_rate],  # Add callbacks here\n",
    "    verbose=1\n",
    ")"
   ]
  },
  {
   "cell_type": "code",
   "execution_count": 27,
   "id": "92754a21",
   "metadata": {},
   "outputs": [
    {
     "name": "stdout",
     "output_type": "stream",
     "text": [
      "5/5 [==============================] - 3s 188ms/step\n"
     ]
    },
    {
     "data": {
      "text/plain": [
       "array([0.9471382 , 0.7269795 , 0.11441696, 0.08907261], dtype=float32)"
      ]
     },
     "execution_count": 27,
     "metadata": {},
     "output_type": "execute_result"
    }
   ],
   "source": [
    "predicted_rawdata_complete_bert = complete_data_bert_model.predict({'input_ids':x_test_complete_bert['input_ids'],'attention_mask':x_test_complete_bert['attention_mask']})\n",
    "predicted_rawdata_complete_bert[0]"
   ]
  },
  {
   "cell_type": "code",
   "execution_count": 28,
   "id": "50f49c72",
   "metadata": {},
   "outputs": [],
   "source": [
    "import numpy as np\n",
    "\n",
    "y_predicted_complete_bert = np.argmax(predicted_rawdata_complete_bert, axis = 1)\n",
    "y_true_com_bert = df_test_complete_sentences['Judgement Status']"
   ]
  },
  {
   "cell_type": "code",
   "execution_count": 29,
   "id": "b3fb3990",
   "metadata": {},
   "outputs": [
    {
     "name": "stdout",
     "output_type": "stream",
     "text": [
      "              precision    recall  f1-score   support\n",
      "\n",
      "           0       0.59      0.64      0.61        36\n",
      "           1       0.69      0.56      0.62        43\n",
      "           2       0.66      0.86      0.75        29\n",
      "           3       0.86      0.75      0.80        32\n",
      "\n",
      "    accuracy                           0.69       140\n",
      "   macro avg       0.70      0.70      0.69       140\n",
      "weighted avg       0.69      0.69      0.68       140\n",
      "\n",
      "F1 Score:  0.6937466513585917\n"
     ]
    }
   ],
   "source": [
    "from sklearn.metrics import classification_report, f1_score\n",
    "print(classification_report(y_true_com_bert, y_predicted_complete_bert))\n",
    "\n",
    "print(\"F1 Score: \",f1_score(y_true_com_bert,y_predicted_complete_bert, average='macro'))"
   ]
  },
  {
   "cell_type": "code",
   "execution_count": 30,
   "id": "d967ae29",
   "metadata": {},
   "outputs": [
    {
     "name": "stderr",
     "output_type": "stream",
     "text": [
      "c:\\Users\\ivsvi\\miniconda3\\envs\\tf-gpu\\lib\\site-packages\\keras\\backend.py:5531: UserWarning: \"`categorical_crossentropy` received `from_logits=True`, but the `output` argument was produced by a Softmax activation and thus does not represent logits. Was this intended?\n",
      "  output, from_logits = _get_logits(\n"
     ]
    },
    {
     "name": "stdout",
     "output_type": "stream",
     "text": [
      "Training Accuracy: 0.9518\n"
     ]
    }
   ],
   "source": [
    "x_train_complete_bert = {'input_ids':x_train_complete_bert['input_ids'],'attention_mask':x_train_complete_bert['attention_mask']}\n",
    "\n",
    "train_loss_complete_bert, train_accuracy_complete_bert = complete_data_bert_model.evaluate(x_train_complete_bert, y_train_complete, verbose=False)\n",
    "print(\"Training Accuracy: {:.4f}\".format(train_accuracy_complete_bert))"
   ]
  },
  {
   "cell_type": "code",
   "execution_count": 31,
   "id": "30538566",
   "metadata": {},
   "outputs": [
    {
     "name": "stdout",
     "output_type": "stream",
     "text": [
      "Testing Accuracy:  0.6857\n"
     ]
    }
   ],
   "source": [
    "x_test_complete_bert = {'input_ids':x_test_complete_bert['input_ids'],'attention_mask':x_test_complete_bert['attention_mask']}\n",
    "\n",
    "test_loss_complete_bert, test_accuracy_complete_bert = complete_data_bert_model.evaluate(x_test_complete_bert, y_test_complete, verbose=False)\n",
    "print(\"Testing Accuracy:  {:.4f}\".format(test_accuracy_complete_bert))"
   ]
  },
  {
   "cell_type": "code",
   "execution_count": 32,
   "id": "729a51f0",
   "metadata": {},
   "outputs": [],
   "source": [
    "import matplotlib.pyplot as plt\n",
    "%matplotlib inline\n",
    "\n",
    "def plot_graphs(history, string):\n",
    "    plt.plot(history.history[string])\n",
    "    plt.plot(history.history['val_'+string])\n",
    "    plt.xlabel(\"Epochs\")\n",
    "    plt.ylabel(string)\n",
    "    plt.legend([string, 'val_'+string])\n",
    "    plt.title(\"Performance on Abstractive summary Data\")\n",
    "    plt.show()"
   ]
  },
  {
   "cell_type": "code",
   "execution_count": 33,
   "id": "19c67c28-cb0d-4b2f-8794-7e655f21eb54",
   "metadata": {},
   "outputs": [
    {
     "data": {
      "image/png": "[encoded data removed]",
      "text/plain": [
       "<Figure size 640x480 with 1 Axes>"
      ]
     },
     "metadata": {},
     "output_type": "display_data"
    },
    {
     "data": {
      "image/png": "[encoded data removed]",
      "text/plain": [
       "<Figure size 640x480 with 1 Axes>"
      ]
     },
     "metadata": {},
     "output_type": "display_data"
    }
   ],
   "source": [
    "plot_graphs(history, \"balanced_accuracy\")\n",
    "plot_graphs(history, \"loss\")\n"
   ]
  },
  {
   "cell_type": "markdown",
   "id": "a25e9789-c873-455d-91b1-33685cf6e648",
   "metadata": {},
   "source": [
    "# Stop HERE"
   ]
  },
  {
   "cell_type": "code",
   "execution_count": 34,
   "id": "bd7f93d3",
   "metadata": {},
   "outputs": [],
   "source": [
    "complete_data_bert_model.save(\"C:/Users/ivsvi/Codes/Codes in Main drive/Masters/SEM-3/DL/Final Project/Saved Models/COM-BERT.h5\")"
   ]
  }
 ],
 "metadata": {
  "kernelspec": {
   "display_name": "Python 3",
   "language": "python",
   "name": "python3"
  },
  "language_info": {
   "codemirror_mode": {
    "name": "ipython",
    "version": 3
   },
   "file_extension": ".py",
   "mimetype": "text/x-python",
   "name": "python",
   "nbconvert_exporter": "python",
   "pygments_lexer": "ipython3",
   "version": "3.9.20"
  }
 },
 "nbformat": 4,
 "nbformat_minor": 5
}
